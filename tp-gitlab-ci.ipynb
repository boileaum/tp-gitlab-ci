{
 "cells": [
  {
   "cell_type": "markdown",
   "metadata": {
    "slideshow": {
     "slide_type": "slide"
    }
   },
   "source": [
    "### Journée X/Stra-Dev Intégration continue\n",
    "\n",
    "21 novembre 2017  \n",
    "\n",
    "--- \n",
    "\n",
    "# L'intégration continue avec GitLab\n",
    "\n",
    "![image.png](images/tanuki.png)\n",
    "\n",
    "## *Session pratique*  \n",
    "\n",
    "---\n",
    "[Source du projet](https://git.unistra.fr/xstra-dev/tp-gitlab-ci)\n",
    "\n",
    "Matthieu Boileau - <matthieu.boileau@math.unistra.fr>\n",
    "\n",
    "*Contenu sous licence [CC BY-SA 4.0](https://creativecommons.org/licenses/by-sa/4.0)*"
   ]
  },
  {
   "cell_type": "markdown",
   "metadata": {
    "slideshow": {
     "slide_type": "slide"
    }
   },
   "source": [
    "# GitLab CI\n",
    "\n",
    "GitLab CI propose une chaîne complète d'intégration continue intégrée à son système de forge logicielle.\n",
    "\n",
    "![](images/cicd_pipeline_infograph.png)\n",
    "<span style=\"font-size:0.7em;\"><https://docs.gitlab.com/ee/ci/README.html></span>\n",
    "\n",
    "**Les avantages :**\n",
    "\n",
    "- la simplicité de mise en oeuvre\n",
    "- la robustesse d'une solution intégrée"
   ]
  },
  {
   "cell_type": "markdown",
   "metadata": {
    "slideshow": {
     "slide_type": "slide"
    }
   },
   "source": [
    "## Le gitlab runner\n",
    "\n",
    "### Introduction\n",
    "\n",
    "- `gitlab-runner` est un démon installé sur une machine destinée à exécuter les tâches d'intégration continue.\n",
    "- Pour chaque *runner* enregistré, `gitlab-runner` écoute l'instance de gitlab correspondante dans l'attente d'une tâche\n",
    "- Cette tâche est déclenchée par des évènements (`push`, `merge`, etc.) sur le projet avec lequel il est lié\n",
    "- Ce lien est créé à l'enregistrement du *runner* par un token associé au projet.\n",
    "\n",
    "[**Doc en ligne**](https://docs.gitlab.com/ce/ci/runners/#shared-vs-specific-runners)"
   ]
  },
  {
   "cell_type": "markdown",
   "metadata": {
    "slideshow": {
     "slide_type": "subslide"
    }
   },
   "source": [
    "### Runners : *shared* vs *specific*\n",
    "\n",
    "- *shared* : n'importe quel projet peut s'en servir. Seul l'administrateur du GitLab peut enregistrer des runners partagés.\n",
    "- *specific* : seul le créateur du runner peut s'en servir dans d'autres projets\n",
    "\n",
    "> **Attention** : les runners partagés sont pratiques mais peuvent présenter des [problèmes de sécurité](https://docs.gitlab.com/ee/ci/runners/README.html#be-careful-with-sensitive-information).\n",
    "\n",
    "\n",
    "### Runners : *locked* vs *unlocked runners*\n",
    "\n",
    "- *locked* : le runner ne peut être utilisé que pour le projet avec lequel il est lié\n",
    "- *unlocked* : le créateur du runner peut l'utiliser dans ses autres projets"
   ]
  },
  {
   "cell_type": "markdown",
   "metadata": {
    "slideshow": {
     "slide_type": "-"
    }
   },
   "source": [
    "### Installer `gitlab-runner`\n",
    "\n",
    "La **[procédure](https://docs.gitlab.com/runner/install/)** dépend du système d'exploitation."
   ]
  },
  {
   "cell_type": "markdown",
   "metadata": {
    "slideshow": {
     "slide_type": "subslide"
    }
   },
   "source": [
    "## Fork du TP\n",
    "\n",
    "Faire un *fork* du projet sur votre compte [GitLab Unistra](https://gitlab.unistra.fr/) en allant sur la [page d'accueil](https://git.unistra.fr/xstra-dev/tp-gitlab-ci) du projet."
   ]
  },
  {
   "cell_type": "markdown",
   "metadata": {
    "slideshow": {
     "slide_type": "-"
    }
   },
   "source": [
    "<video controls src=\"videos/fork.mov\" />"
   ]
  },
  {
   "cell_type": "markdown",
   "metadata": {
    "slideshow": {
     "slide_type": "-"
    }
   },
   "source": [
    "ou en suivant [ce lien](https://git.unistra.fr/xstra-dev/tp-gitlab-ci/forks/new)."
   ]
  },
  {
   "cell_type": "markdown",
   "metadata": {
    "slideshow": {
     "slide_type": "subslide"
    }
   },
   "source": [
    "## Clone du TP"
   ]
  },
  {
   "cell_type": "markdown",
   "metadata": {
    "slideshow": {
     "slide_type": "-"
    }
   },
   "source": [
    "- Pour paramétrer les commandes de ce notebook, positionner les variables d'environnement suivantes :"
   ]
  },
  {
   "cell_type": "code",
   "execution_count": null,
   "metadata": {},
   "outputs": [],
   "source": [
    "export USERNAME=\"xstra-dev\"  # votre login sur git.unistra.fr\n",
    "export TPBASEDIR=$HOME       # le répertoire où vous souhaitez installer le TP\n",
    "export TPDIR=$TPBASEDIR/tp-gitlab-ci"
   ]
  },
  {
   "cell_type": "markdown",
   "metadata": {},
   "source": [
    "- Cloner localement votre projet"
   ]
  },
  {
   "cell_type": "code",
   "execution_count": null,
   "metadata": {},
   "outputs": [],
   "source": [
    "cd $TPBASEDIR\n",
    "git clone git@git.unistra.fr:$USERNAME/tp-gitlab-ci.git"
   ]
  },
  {
   "cell_type": "markdown",
   "metadata": {
    "slideshow": {
     "slide_type": "subslide"
    }
   },
   "source": [
    "## Enregistrer  un nouveau runner <a id='register'></a>\n",
    "\n",
    "> Si vous ne souhaitez pas installer et configurer `gitlab-runner`, rdv [**Exo1**](#exo1)."
   ]
  },
  {
   "cell_type": "markdown",
   "metadata": {
    "slideshow": {
     "slide_type": "subslide"
    }
   },
   "source": [
    "### Repérer l'URL et le token d'enregistrement\n",
    "\n",
    "Engistrer un runner consiste à créer un nouveau runner associé à un projet.\n",
    "Si vous n'êtes pas administrateur du GitLab, il s'agit forcément d'un runner spécifique.\n",
    "\n",
    "Allez chercher l'URL et le token du projet dans\n",
    "\n",
    "```\n",
    "Settings > CI / CD > Runners settings\n",
    "```\n",
    "<video controls src=\"videos/runner-settings.mov\" />"
   ]
  },
  {
   "cell_type": "markdown",
   "metadata": {
    "slideshow": {
     "slide_type": "subslide"
    }
   },
   "source": [
    "### Enregistrement en mode non interactif\n",
    "\n",
    "On positionne des variables d'environnement pour gitlab-runner"
   ]
  },
  {
   "cell_type": "code",
   "execution_count": null,
   "metadata": {
    "slideshow": {
     "slide_type": "-"
    }
   },
   "outputs": [],
   "source": [
    "export CI_SERVER_URL=https://git.unistra.fr/  # Ne pas changer pour cette session pratique\n",
    "export RUNNER_NAME=a_runner_for_$USERNAME\n",
    "export REGISTRATION_TOKEN=xxx  # Remplacez par la valeur indiquée sur la page de paramètres du runner\n",
    "export REGISTER_NON_INTERACTIVE=true  # nécessaire pour le mode script"
   ]
  },
  {
   "cell_type": "markdown",
   "metadata": {},
   "source": [
    "Si vous êtes sous **MacOS**, vous pouvez maintenant enregistrer votre runner en décommentant la ligne suivante :"
   ]
  },
  {
   "cell_type": "code",
   "execution_count": null,
   "metadata": {
    "slideshow": {
     "slide_type": "-"
    }
   },
   "outputs": [],
   "source": [
    "#gitlab-runner register --executor shell"
   ]
  },
  {
   "cell_type": "markdown",
   "metadata": {
    "slideshow": {
     "slide_type": "-"
    }
   },
   "source": [
    "Si vous êtes sous **Linux**, vous pouvez copier les lignes de variables d'environnement dans un terminal et exécuter :\n",
    "```bash\n",
    "sudo gitlab-runner register --executor shell\n",
    "\n",
    "```"
   ]
  },
  {
   "cell_type": "markdown",
   "metadata": {
    "slideshow": {
     "slide_type": "subslide"
    }
   },
   "source": [
    "### Enregistrement en mode  interactif\n",
    "\n",
    "Ou bien lancez la commande en mode interactif et compléter le prompt en suivant la vidéo ci-dessous :\n",
    "```bash\n",
    "gitlab-runner register       # sous MacOS\n",
    "sudo gitlab-runner register  # sous Linux\n",
    "```\n",
    "<video controls src=\"videos/runner-register.mov\"/>"
   ]
  },
  {
   "cell_type": "markdown",
   "metadata": {
    "slideshow": {
     "slide_type": "-"
    }
   },
   "source": [
    "Cette procédure est décrite pas à pas dans la [documentation officielle](http://docs.gitlab.com/runner/register/#registering-runners)."
   ]
  },
  {
   "cell_type": "markdown",
   "metadata": {
    "slideshow": {
     "slide_type": "subslide"
    }
   },
   "source": [
    "### Editer les paramètres du runner\n",
    "\n",
    "- Retournez sur la page de paramètrage des runners\n",
    "- Repérez votre nouveau runner\n",
    "- Editez-le et ajouter les tags `tp-gitlab-ci, shell` s'ils ne sont pas déjà présents\n",
    "\n",
    "Votre runner est maintenant prêt à travailler. Nous allons le tester en lui soumettant une tâche GitLab CI déclenchée par un `git push` sur votre projet."
   ]
  },
  {
   "cell_type": "markdown",
   "metadata": {
    "slideshow": {
     "slide_type": "slide"
    }
   },
   "source": [
    "## Exo1 : helloworld en bash <a id='exo1'></a>\n",
    "\n",
    "### Mettre en place une action d'intégration continue\n",
    "\n",
    "Allez dans le répertoire racine du clone local de votre projet et basculez sur la branche `exo1`"
   ]
  },
  {
   "cell_type": "code",
   "execution_count": null,
   "metadata": {},
   "outputs": [],
   "source": [
    "cd $TPDIR"
   ]
  },
  {
   "cell_type": "code",
   "execution_count": null,
   "metadata": {},
   "outputs": [],
   "source": [
    "git pull\n",
    "git stash\n",
    "git checkout exo1\n",
    "git checkout exo1-start .gitlab-ci.yml"
   ]
  },
  {
   "cell_type": "markdown",
   "metadata": {},
   "source": [
    "Repérer le fichier `.gitlab-ci.yml`"
   ]
  },
  {
   "cell_type": "code",
   "execution_count": null,
   "metadata": {
    "slideshow": {
     "slide_type": "subslide"
    }
   },
   "outputs": [],
   "source": [
    "ls -al"
   ]
  },
  {
   "cell_type": "markdown",
   "metadata": {},
   "source": [
    "L'éditer avec l'éditeur de votre choix"
   ]
  },
  {
   "cell_type": "code",
   "execution_count": null,
   "metadata": {},
   "outputs": [],
   "source": [
    "cat .gitlab-ci.yml"
   ]
  },
  {
   "cell_type": "markdown",
   "metadata": {},
   "source": [
    "Le fichier `.gitlab-ci.yml` (format YAML) décrit l'intégralité des tâches d'intégration continue avec GitLab CI. Dans cet exemple :\n",
    "- `helloworld` indique le nom du job d'intégration continue\n",
    "- `tags` permet de sélectionner des runners sur la base de mot-clés\n",
    "- `scripts` correspond aux lignes de commande `bash` que vous souhaitez exécuter"
   ]
  },
  {
   "cell_type": "markdown",
   "metadata": {
    "slideshow": {
     "slide_type": "subslide"
    }
   },
   "source": [
    "### Si vous souhaitez utiliser un runner partagé\n",
    "\n",
    "Dans la rubrique :\n",
    "\n",
    "```\n",
    "Settings > CI / CD > Runners settings\n",
    "```\n",
    "\n",
    "Notez la présence de plusieurs runners partagés dont `clu1-tp-gitlab-ci` qui portent les tags `shell` et `docker` mais pas `tp-gitlab-ci`. Pour cibler ce runner, retirer le tag `tp-gitlab-ci` du fichier `.gitlab-ci.yml`"
   ]
  },
  {
   "cell_type": "markdown",
   "metadata": {
    "slideshow": {
     "slide_type": "subslide"
    }
   },
   "source": [
    "### Déclenchez une action d'intégration continue\n",
    "\n",
    "Modifiez la ligne de script, par exemple:"
   ]
  },
  {
   "cell_type": "code",
   "execution_count": null,
   "metadata": {},
   "outputs": [],
   "source": [
    "echo '    - echo \"bonjour, monde\"' >> .gitlab-ci.yml\n",
    "cat .gitlab-ci.yml"
   ]
  },
  {
   "cell_type": "markdown",
   "metadata": {
    "slideshow": {
     "slide_type": "-"
    }
   },
   "source": [
    "Enregistrez avec git"
   ]
  },
  {
   "cell_type": "code",
   "execution_count": null,
   "metadata": {
    "slideshow": {
     "slide_type": "-"
    }
   },
   "outputs": [],
   "source": [
    "git add .gitlab-ci.yml\n",
    "git commit -m \"Update .gitlab-ci.yml\""
   ]
  },
  {
   "cell_type": "markdown",
   "metadata": {
    "slideshow": {
     "slide_type": "subslide"
    }
   },
   "source": [
    "Poussez vos modifications"
   ]
  },
  {
   "cell_type": "code",
   "execution_count": null,
   "metadata": {},
   "outputs": [],
   "source": [
    "git push"
   ]
  },
  {
   "cell_type": "markdown",
   "metadata": {
    "slideshow": {
     "slide_type": "-"
    }
   },
   "source": [
    "Sur GitLab, observez l'exécution de votre job dans la rubrique de votre projet :\n",
    "```\n",
    "CI / CD > Pipelines\n",
    "```"
   ]
  },
  {
   "cell_type": "markdown",
   "metadata": {
    "slideshow": {
     "slide_type": "subslide"
    }
   },
   "source": [
    "### Provoquez une erreur\n",
    "\n",
    "Dans `.gitlab-ci.yml`, introduisez une erreur dans une des lignes du script et observer l'effet dans `CI / CD > Pipelines` après avoir poussé les modifications.\n",
    "\n",
    "> **Note :** les fichiers peuvent s'éditer directement dans GitLab."
   ]
  },
  {
   "cell_type": "markdown",
   "metadata": {
    "slideshow": {
     "slide_type": "slide"
    }
   },
   "source": [
    "## Exo2 : helloworld en C\n",
    "\n",
    "### Description\n",
    "\n",
    "On écrit le programme `helloworld` en C qui doit afficher `hello, world`.\n",
    "\n",
    "### Mettre en place une action de *build*\n",
    "\n",
    "Dans votre clone local, basculez sur la branche `exo2`"
   ]
  },
  {
   "cell_type": "code",
   "execution_count": null,
   "metadata": {},
   "outputs": [],
   "source": [
    "cd $TPDIR\n",
    "git stash  # si vous avez des modifications non enregistrées dans exo1\n",
    "git checkout exo2\n",
    "git rm .gitlab-ci.yml  # Clean previous commits"
   ]
  },
  {
   "cell_type": "markdown",
   "metadata": {
    "slideshow": {
     "slide_type": "subslide"
    }
   },
   "source": [
    "Listez le contenu du répertoire"
   ]
  },
  {
   "cell_type": "code",
   "execution_count": null,
   "metadata": {},
   "outputs": [],
   "source": [
    "ls -al"
   ]
  },
  {
   "cell_type": "markdown",
   "metadata": {},
   "source": [
    "Vérifiez que le progamme compile"
   ]
  },
  {
   "cell_type": "code",
   "execution_count": null,
   "metadata": {},
   "outputs": [],
   "source": [
    "make"
   ]
  },
  {
   "cell_type": "markdown",
   "metadata": {
    "slideshow": {
     "slide_type": "subslide"
    }
   },
   "source": [
    "On crée le fichier `.gitlab-ci.yml` avec une étape (`stage`) de `build`. Il doit contenir :\n",
    "```yaml\n",
    "build_hello:\n",
    "  stage: build\n",
    "  tags:\n",
    "    - shell\n",
    "  script:\n",
    "    - make\n",
    "```"
   ]
  },
  {
   "cell_type": "code",
   "execution_count": null,
   "metadata": {},
   "outputs": [],
   "source": [
    "cat > .gitlab-ci.yml <<- EOM\n",
    "build_hello:\n",
    "  stage: build\n",
    "  tags:\n",
    "    - shell\n",
    "  script:\n",
    "    - make\n",
    "EOM"
   ]
  },
  {
   "cell_type": "markdown",
   "metadata": {
    "slideshow": {
     "slide_type": "subslide"
    }
   },
   "source": [
    "On vérifie le contenu"
   ]
  },
  {
   "cell_type": "code",
   "execution_count": null,
   "metadata": {},
   "outputs": [],
   "source": [
    "cat .gitlab-ci.yml"
   ]
  },
  {
   "cell_type": "markdown",
   "metadata": {
    "slideshow": {
     "slide_type": "-"
    }
   },
   "source": [
    "On enregistre et on pousse."
   ]
  },
  {
   "cell_type": "code",
   "execution_count": null,
   "metadata": {
    "slideshow": {
     "slide_type": "-"
    }
   },
   "outputs": [],
   "source": [
    "git add .gitlab-ci.yml\n",
    "git commit -m \"Add .gitlab-ci.yml with a build stage\""
   ]
  },
  {
   "cell_type": "code",
   "execution_count": null,
   "metadata": {
    "scrolled": true,
    "slideshow": {
     "slide_type": "subslide"
    }
   },
   "outputs": [],
   "source": [
    "git push"
   ]
  },
  {
   "cell_type": "markdown",
   "metadata": {
    "slideshow": {
     "slide_type": "-"
    }
   },
   "source": [
    "Sur GitLab, observez l'exécution de votre job dans la rubrique de votre projet :\n",
    "```\n",
    "CI / CD > Pipelines\n",
    "```"
   ]
  },
  {
   "cell_type": "markdown",
   "metadata": {
    "slideshow": {
     "slide_type": "subslide"
    }
   },
   "source": [
    "### Ajouter une action de *test*\n",
    "\n",
    "On souhaite ajouter une étape de test réalisée avec `make test`. Tester l'exécution du test (il ne doit pas renvoyer d'erreur) :"
   ]
  },
  {
   "cell_type": "code",
   "execution_count": null,
   "metadata": {},
   "outputs": [],
   "source": [
    "make test"
   ]
  },
  {
   "cell_type": "markdown",
   "metadata": {
    "slideshow": {
     "slide_type": "subslide"
    }
   },
   "source": [
    "Il faut ajouter le contenu suivant :\n",
    "```yaml\n",
    "test_hello:\n",
    "  stage: test\n",
    "  tags:\n",
    "    - shell\n",
    "  script:\n",
    "    - make test\n",
    "```"
   ]
  },
  {
   "cell_type": "code",
   "execution_count": null,
   "metadata": {},
   "outputs": [],
   "source": [
    "cat >> .gitlab-ci.yml <<- EOM\n",
    "\n",
    "test_hello:\n",
    "  stage: test\n",
    "  tags:\n",
    "    - shell\n",
    "  script:\n",
    "    - make test\n",
    "EOM"
   ]
  },
  {
   "cell_type": "code",
   "execution_count": null,
   "metadata": {},
   "outputs": [],
   "source": [
    "cat .gitlab-ci.yml"
   ]
  },
  {
   "cell_type": "markdown",
   "metadata": {
    "slideshow": {
     "slide_type": "subslide"
    }
   },
   "source": [
    "On enregistre, on pousse et on vérifie l'exécution de la chaîne d'intégration continue dans `CI / CD > Pipelines`\n"
   ]
  },
  {
   "cell_type": "code",
   "execution_count": null,
   "metadata": {
    "slideshow": {
     "slide_type": "-"
    }
   },
   "outputs": [],
   "source": [
    "git add .gitlab-ci.yml\n",
    "git commit -m \"Add a test stage to .gitlab-ci.yml\""
   ]
  },
  {
   "cell_type": "code",
   "execution_count": null,
   "metadata": {
    "scrolled": true
   },
   "outputs": [],
   "source": [
    "git push"
   ]
  },
  {
   "cell_type": "markdown",
   "metadata": {
    "slideshow": {
     "slide_type": "subslide"
    }
   },
   "source": [
    "### Provoquez des erreurs\n",
    "\n",
    "Modifier les fichiers pour provoquer des erreurs.\n",
    "Notez que le test n'est pas exécuté si le build échoue."
   ]
  },
  {
   "cell_type": "markdown",
   "metadata": {
    "slideshow": {
     "slide_type": "slide"
    }
   },
   "source": [
    "## Exo3 : Docker pour gérer les dépendances\n",
    "\n",
    "On veut mainteant mettre en place d'intégration continue d'un programme en python `rosenbrock.py` qui calcule la [fonction de Rosenbrock](https://fr.wikipedia.org/wiki/Fonction_de_Rosenbrock). Pour que cette fonction soit efficace, nous allons la compiler avec [`pythran`](http://pythran.readthedocs.io/), un traducteur de python vers C++ qui permet d'accélérer le code python.\n",
    "Cet exercice a pour but d'illustrer la gestion des dépendances de compilation avec les conteneurs Docker dans une chaîne GitLab CI.\n",
    "\n",
    "Pour le reproduire, il est nécessaire de :\n",
    "1. créer un compte sur [DockerHub](https://hub.docker.com/)\n",
    "* que Docker soit installé sur la machine qui héberge le runner (c'est le cas pour le runner partagé de ce TP).\n",
    "* configurer un nouveau runner en reprenant la [procédure](#exo1) avec les paramètres suivants :\n",
    "    - tags : `tp-gitlab-ci, docker-exec`\n",
    "    - `executor: docker`\n",
    "    \n",
    "> Le dépôt d'images est gratuit sur DockerHub à condition que les images soient publiques. Pour héberger des images privées, il existe la solution du [GitLab container registry](https://about.gitlab.com/2016/05/23/gitlab-container-registry/), un service qui doit être activé par l'administrateur de l'instance de GitLab."
   ]
  },
  {
   "cell_type": "markdown",
   "metadata": {
    "slideshow": {
     "slide_type": "subslide"
    }
   },
   "source": [
    "Dans votre clone local, basculez sur `exo3`"
   ]
  },
  {
   "cell_type": "code",
   "execution_count": null,
   "metadata": {},
   "outputs": [],
   "source": [
    "cd $TPDIR\n",
    "git stash  # si vous avez des modifications non enregistrées dans exo2\n",
    "git checkout exo3"
   ]
  },
  {
   "cell_type": "markdown",
   "metadata": {
    "slideshow": {
     "slide_type": "subslide"
    }
   },
   "source": [
    "### Entête et étape préliminaire du fichier `.gitlab-ci.yml`\n",
    "\n",
    "```yaml\n",
    "stages:\n",
    "  - build\n",
    "  - test\n",
    "  - release\n",
    "\n",
    "variables:\n",
    "  DOCKERHUB_USERNAME: boileaum\n",
    "  CONTAINER_TEST_IMAGE: $DOCKERHUB_USERNAME/rosen:$CI_COMMIT_REF_NAME\n",
    "  CONTAINER_RELEASE_IMAGE: $DOCKERHUB_USERNAME/rosen:latest\n",
    "[...]\n",
    "```\n",
    "\n",
    "> Remplacez `boileaum` par votre `username` sur DockerHub.\n"
   ]
  },
  {
   "cell_type": "markdown",
   "metadata": {
    "slideshow": {
     "slide_type": "subslide"
    }
   },
   "source": [
    "### Etape de `build` :\n",
    "\n",
    "```yaml\n",
    "[...]\n",
    "b:docker:\n",
    "  stage: build\n",
    "  tags:\n",
    "    - shell, docker\n",
    "  script:\n",
    "    - echo $DOCKERHUB_PASSWD | docker login -u $DOCKERHUB_USERNAME --password-stdin\n",
    "    - docker build --pull -t $CONTAINER_TEST_IMAGE -f ./docker/Dockerfile-rosen .\n",
    "    - docker push $CONTAINER_TEST_IMAGE\n",
    "[...]\n",
    "```\n",
    "\n",
    "1. La première ligne de script permet de s'authentifier sur DockerHub. Sur GitLab dans `Settings > CI / CD > Secret variables`, créez une variable `DOCKERHUB_PASSWD` qui contient le mot de passe de votre compte DockerHub.\n",
    "- on construit l'image de test à partir du fichier `./docker/Dockerfile-rosen`\n",
    "- on pousse cette image sur DockerHub\n",
    "\n",
    "> **Note :** l'image construite avec `./docker/Dockerfile-rosen` est basée sur l'image construite avec `./docker/Dockerfile-pythran` et qui contient les dépendances nécessaires."
   ]
  },
  {
   "cell_type": "markdown",
   "metadata": {
    "slideshow": {
     "slide_type": "subslide"
    }
   },
   "source": [
    "### Une première étape de `test`\n",
    "\n",
    "```yaml\n",
    "[...]\n",
    "  t:rosen-py36:\n",
    "    stage: test\n",
    "    image: $CONTAINER_TEST_IMAGE\n",
    "    tags:\n",
    "      - tp-gitlab-ci\n",
    "      - docker-exec\n",
    "    script:\n",
    "      - make clean && make\n",
    "      - pytest -v\n",
    "[...]\n",
    "```\n",
    "\n",
    "Avec le mot clé `image`, on indique à GitLab CI qu'on veut instancier un conteneur Docker. Les lignes de scripts vont alors être exécutées à l'intérieur de ce conteneur."
   ]
  },
  {
   "cell_type": "markdown",
   "metadata": {
    "slideshow": {
     "slide_type": "subslide"
    }
   },
   "source": [
    "### Une deuxième étape de `test`\n",
    "\n",
    "```yaml\n",
    "[...]\n",
    "t:rosen-py27:\n",
    "  stage: test\n",
    "  image: $CONTAINER_TEST_IMAGE\n",
    "  tags:\n",
    "    - tp-gitlab-ci\n",
    "    - docker-exec\n",
    "  script:\n",
    "    - source /home/euler/py27/bin/activate \n",
    "    - make clean && make\n",
    "    - pytest -v\n",
    "[...]\n",
    "```\n",
    "\n",
    "Cette fois-ci, on veut tester l'exécution (et avant la construction) avec python 2.7. Pour ce faire, on utilise virtualenv tel qu'il est a été installé dans l'image `boileaum/pythran`."
   ]
  },
  {
   "cell_type": "markdown",
   "metadata": {
    "slideshow": {
     "slide_type": "subslide"
    }
   },
   "source": [
    "### Etape de livraison\n",
    "\n",
    "```yaml\n",
    "\n",
    "[...]\n",
    "r:docker:\n",
    "  stage: release\n",
    "  tags:\n",
    "    - shell\n",
    "    - docker\n",
    "  script:\n",
    "    - echo $DOCKERHUB_PASSWD | docker login -u $DOCKERHUB_USERNAME --password-stdin\n",
    "    - docker pull $CONTAINER_TEST_IMAGE\n",
    "    - docker tag $CONTAINER_TEST_IMAGE $CONTAINER_RELEASE_IMAGE\n",
    "    - docker push $CONTAINER_RELEASE_IMAGE\n",
    "  only:\n",
    "    - exo3\n",
    "```\n",
    "\n",
    "On ne fait que tirer l'image de test validée, la renommer, la pousser vers DockerHub. Notez le mot-clé `only` qui indique que cette étape ne sera exécutée que pour la branche git `exo3`. On évite ainsi de livrer des images produites par des branches de développement."
   ]
  },
  {
   "cell_type": "markdown",
   "metadata": {
    "slideshow": {
     "slide_type": "subslide"
    }
   },
   "source": [
    "### Pipeline complet\n",
    "\n",
    "\n",
    "![](images/pipeline.png)\n",
    "\n",
    "Comme le montre ce schéma, l'exécution de différents jobs d'une même étape peut être réalisée en parallèle par différents runners.\n",
    "\n",
    "Plus d'information sur l'utilisation de docker avec GitLab CI dans la [doc officielle](https://docs.gitlab.com/ee/ci/docker/using_docker_build.html)."
   ]
  },
  {
   "cell_type": "markdown",
   "metadata": {
    "slideshow": {
     "slide_type": "slide"
    }
   },
   "source": [
    "# Conclusion\n",
    "\n",
    "### Ce qu'on a vu\n",
    "- comment configurer un runner `shell`\n",
    "- comment cibler différents runners\n",
    "- comment mettre en place une chaîne d'intégration continue\n",
    "- comment tirer/construire/pousser des images Docker\n",
    "\n",
    "### Ce qu'on n'a pas vu\n",
    "- comment utiliser les autres types de runners (en particulier `docker`)\n",
    "- comment récupérer des artefacts d'intégration\n",
    "- les problèmes de [sécurité](http://docs.gitlab.com/runner/executors/shell.html#security)\n",
    "- [GitLab Pages](https://about.gitlab.com/features/pages) : un outil très pratique pour publier du contenu hébergé dans un dépôt GitLab. Un exemple avec ce projet dont la configuration décrite par ce [`.gitlab-ci.yml`](https://git.unistra.fr/xstra-dev/tp-gitlab-ci/blob/master/.gitlab-ci.yml) permet de publier sur <https://xstra-dev.pages.unistra.fr/tp-gitlab-ci>\n",
    "- bien plus !\n",
    "\n",
    "Mais beaucoup de réponses sont dans la [doc officielle](https://docs.gitlab.com/ee/ci/README.html) qui est très complète !"
   ]
  }
 ],
 "metadata": {
  "celltoolbar": "Slideshow",
  "kernelspec": {
   "display_name": "Bash",
   "language": "bash",
   "name": "bash"
  },
  "language_info": {
   "codemirror_mode": "shell",
   "file_extension": ".sh",
   "mimetype": "text/x-sh",
   "name": "bash"
  }
 },
 "nbformat": 4,
 "nbformat_minor": 2
}
