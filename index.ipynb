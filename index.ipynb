{
 "cells": [
  {
   "cell_type": "markdown",
   "metadata": {
    "slideshow": {
     "slide_type": "slide"
    }
   },
   "source": [
    "### Journée X/Stra-Dev Intégration continue\n",
    "\n",
    "21 novembre 2017  \n",
    "\n",
    "--- \n",
    "\n",
    "# L'intégration continue avec GitLab\n",
    "\n",
    "![image.png](images/tanuki.png)\n",
    "\n",
    "## *Session pratique*\n",
    "\n",
    "Le support de cette session est disponible en version :\n",
    "\n",
    "- **notebook Jupyter** exécutable : \n",
    "    - soit sous forme d'[archive](https://xstra-dev.pages.unistra.fr/tp-gitlab-ci/archive.tar.gz) téléchargeable\n",
    "    - soit sous forme de [dépôt git](https://git.unistra.fr/xstra-dev/tp-gitlab-ci) clonable\n",
    "- [html](http://nbviewer.jupyter.org/urls/xstra-dev.pages.unistra.fr/tp-gitlab-ci/tp-gitlab-ci.ipynb) statique\n",
    "- [diaporama](https://xstra-dev.pages.unistra.fr/tp-gitlab-ci/tp-gitlab-ci.slides.html) statique\n",
    "\n",
    "\n",
    "> **Pour exécuter le notebook jupyter**\n",
    "> \n",
    "> - Télécharger l'[archive](https://xstra-dev.pages.unistra.fr/tp-gitlab-ci/archive.tar.gz) ou cloner le [dépôt](https://git.unistra.fr/xstra-dev/tp-gitlab-ci)\n",
    "> \n",
    "> - [Installer Anaconda](https://www.anaconda.com/download) pour obtenir `jupyter-notebook`\n",
    "> - Ajouter le support du noyau bash :\n",
    "> \n",
    "> ```bash\n",
    "> pip install bash_kernel\n",
    "> python -m bash_kernel.install\n",
    "> ```\n",
    "> \n",
    "> - Lancer le notebook :\n",
    "> \n",
    "> ```bash\n",
    "> jupyter notebook tp-gitlab-ci.ipynb\n",
    "> ```\n",
    "\n",
    "---\n",
    "\n",
    "Matthieu Boileau - <matthieu.boileau@math.unistra.fr>\n",
    "\n",
    "*Contenu sous licence [CC BY-SA 4.0](https://creativecommons.org/licenses/by-sa/4.0)*"
   ]
  }
 ],
 "metadata": {
  "celltoolbar": "Slideshow",
  "kernelspec": {
   "display_name": "Python 3",
   "language": "python",
   "name": "python3"
  },
  "language_info": {
   "codemirror_mode": {
    "name": "ipython",
    "version": 3
   },
   "file_extension": ".py",
   "mimetype": "text/x-python",
   "name": "python",
   "nbconvert_exporter": "python",
   "pygments_lexer": "ipython3",
   "version": "3.6.2"
  }
 },
 "nbformat": 4,
 "nbformat_minor": 2
}
