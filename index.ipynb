{
 "cells": [
  {
   "cell_type": "markdown",
   "metadata": {
    "slideshow": {
     "slide_type": "slide"
    }
   },
   "source": [
    "### Journée X/Stra-Dev Intégration continue\n",
    "\n",
    "21 novembre 2017  \n",
    "\n",
    "--- \n",
    "\n",
    "# L'intégration continue avec GitLab\n",
    "\n",
    "![image.png](tanuki.png)\n",
    "\n",
    "## *Session pratique*\n",
    "\n",
    "- Notebook [[en ligne](http://nbviewer.jupyter.org/urls/xstra-dev.pages.unistra.fr/tp-gitlab-ci/tp-gitlab-ci.ipynb) | [archive](https://xstra-dev.pages.unistra.fr/tp-gitlab-ci/archive.tar.gz)]\n",
    "- [Slideshow](https://xstra-dev.pages.unistra.fr/tp-gitlab-ci/tp-gitlab-ci.slides.html)\n",
    "- [Sources](https://git.unistra.fr/xstra-dev/tp-gitlab-ci)\n",
    "---\n",
    "\n",
    "Matthieu Boileau - <matthieu.boileau@math.unistra.fr>\n",
    "\n",
    "*Contenu sous licence [CC BY-SA 4.0](https://creativecommons.org/licenses/by-sa/4.0)*"
   ]
  }
 ],
 "metadata": {
  "celltoolbar": "Slideshow",
  "kernelspec": {
   "display_name": "Bash",
   "language": "bash",
   "name": "bash"
  },
  "language_info": {
   "codemirror_mode": "shell",
   "file_extension": ".sh",
   "mimetype": "text/x-sh",
   "name": "bash"
  }
 },
 "nbformat": 4,
 "nbformat_minor": 2
}
