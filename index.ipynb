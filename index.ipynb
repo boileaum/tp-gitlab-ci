{
 "cells": [
  {
   "cell_type": "markdown",
   "metadata": {
    "slideshow": {
     "slide_type": "slide"
    }
   },
   "source": [
    "### Journée X/Stra-Dev Intégration continue\n",
    "\n",
    "21 novembre 2017  \n",
    "\n",
    "--- \n",
    "\n",
    "# L'intégration continue avec GitLab\n",
    "\n",
    "![image.png](images/tanuki.png)\n",
    "\n",
    "## *Session pratique*\n",
    "\n",
    "- [Version html](http://nbviewer.jupyter.org/urls/xstra-dev.pages.unistra.fr/tp-gitlab-ci/tp-gitlab-ci.ipynb)\n",
    "- [Version diaporama](https://xstra-dev.pages.unistra.fr/tp-gitlab-ci/tp-gitlab-ci.slides.html)\n",
    "- [Archive du notebook](https://xstra-dev.pages.unistra.fr/tp-gitlab-ci/archive.tar.gz)\n",
    "- [Dépôt du notebook](https://git.unistra.fr/xstra-dev/tp-gitlab-ci)\n",
    "---\n",
    "\n",
    "Matthieu Boileau - <matthieu.boileau@math.unistra.fr>\n",
    "\n",
    "*Contenu sous licence [CC BY-SA 4.0](https://creativecommons.org/licenses/by-sa/4.0)*"
   ]
  }
 ],
 "metadata": {
  "celltoolbar": "Slideshow",
  "kernelspec": {
   "display_name": "Bash",
   "language": "bash",
   "name": "bash"
  },
  "language_info": {
   "codemirror_mode": "shell",
   "file_extension": ".sh",
   "mimetype": "text/x-sh",
   "name": "bash"
  }
 },
 "nbformat": 4,
 "nbformat_minor": 2
}
